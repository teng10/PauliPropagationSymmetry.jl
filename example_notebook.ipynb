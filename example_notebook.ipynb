{
 "cells": [
  {
   "cell_type": "code",
   "execution_count": 1,
   "id": "647b2634",
   "metadata": {},
   "outputs": [
    {
     "name": "stderr",
     "output_type": "stream",
     "text": [
      "\u001b[32m\u001b[1mPrecompiling\u001b[22m\u001b[39m PauliPropagation\n",
      "\u001b[32m  ✓ \u001b[39mPauliPropagation\n",
      "  1 dependency successfully precompiled in 1 seconds. 10 already precompiled.\n"
     ]
    }
   ],
   "source": [
    "using Revise\n",
    "using PauliPropagation"
   ]
  },
  {
   "cell_type": "code",
   "execution_count": 2,
   "id": "6b7e0352",
   "metadata": {},
   "outputs": [
    {
     "data": {
      "text/plain": [
       "8"
      ]
     },
     "execution_count": 2,
     "metadata": {},
     "output_type": "execute_result"
    }
   ],
   "source": [
    "nq = 8"
   ]
  },
  {
   "cell_type": "code",
   "execution_count": 3,
   "id": "b8d96c9c",
   "metadata": {},
   "outputs": [
    {
     "name": "stdout",
     "output_type": "stream",
     "text": [
      "IIIZIIII\n"
     ]
    }
   ],
   "source": [
    "symbs = [:I for _ in 1:nq]\n",
    "symbs[round(Int, nq/2)] = :Z   # as symbol. Also works but is slower.\n",
    "\n",
    "obsint = symboltoint(symbs)  # for performance we work with bitoperations\n",
    "show(obsint, nq)"
   ]
  },
  {
   "cell_type": "code",
   "execution_count": 4,
   "id": "3b33e38c",
   "metadata": {},
   "outputs": [
    {
     "data": {
      "text/plain": [
       "124"
      ]
     },
     "execution_count": 4,
     "metadata": {},
     "output_type": "execute_result"
    }
   ],
   "source": [
    "nl = 4\n",
    "topo = bricklayertopology(nq; periodic=false)\n",
    "# topo = get2dtopology(4, 4)\n",
    "circ = hardwareefficientcircuit(nq, nl; topology=topo)\n",
    "fastcirc = tofastgates(circ)\n",
    "m = length(fastcirc)"
   ]
  },
  {
   "cell_type": "code",
   "execution_count": 5,
   "id": "0a8db20a",
   "metadata": {},
   "outputs": [],
   "source": [
    "using Random\n",
    "Random.seed!(42)\n",
    "thetas = randn(m);"
   ]
  },
  {
   "cell_type": "code",
   "execution_count": 6,
   "id": "84f77657",
   "metadata": {},
   "outputs": [],
   "source": [
    "W = Inf;                   # maximal operator weight.\n",
    "min_abs_coeff = 0;          # neglect small coefficients. Only for numerical and hybrid PP."
   ]
  },
  {
   "cell_type": "markdown",
   "id": "fc387343",
   "metadata": {},
   "source": [
    "#### Numerical Pauli Propagation\n",
    "Propagates numerical coefficients."
   ]
  },
  {
   "cell_type": "code",
   "execution_count": 7,
   "id": "dd37e3ec",
   "metadata": {},
   "outputs": [
    {
     "name": "stdout",
     "output_type": "stream",
     "text": [
      "  0.344508 seconds (678.05 k allocations: 48.275 MiB, 5.80% gc time, 78.22% compilation time)\n",
      "length(dnum) = 53247\n"
     ]
    },
    {
     "data": {
      "text/plain": [
       "0.21720058439757214"
      ]
     },
     "execution_count": 7,
     "metadata": {},
     "output_type": "execute_result"
    }
   ],
   "source": [
    "@time dnum = mergingbfs(fastcirc, obsint, thetas; max_weight=W, min_abs_coeff=min_abs_coeff);\n",
    "@show length(dnum)   # number of unique Pauli ops\n",
    "evalagainstzero(dnum) # expectation"
   ]
  },
  {
   "cell_type": "code",
   "execution_count": 8,
   "id": "266614dc",
   "metadata": {},
   "outputs": [
    {
     "name": "stdout",
     "output_type": "stream",
     "text": [
      "Dict{UInt16, Float64} with 53247 entries:\n",
      "  XZIIXXZX => 9.342063615803493e-7\n",
      "  IIIXIIZY => 9.36513557295548e-6\n",
      "  YZZIYXZX => 3.818927407510158e-6\n",
      "  ZXYYYXII => -0.0001441502376292454\n",
      "  IZYZIIXY => -1.2333560289051895e-6\n",
      "  XXIIYZXI => 2.2079024544367792e-7\n",
      "  IZZXIZYZ => 1.4947093598678283e-7\n",
      "  YYXIYYYZ => 3.270505758837586e-7\n",
      "  YZIXXZII => -0.0035533574412631294\n",
      "  IXIYIIZX => -5.727900984982438e-7\n",
      "  IYZZZYYX => -3.3665247394632922e-6\n",
      "  YIYZYIZZ => -8.123208720289147e-9\n",
      "  XIZZXXZZ => 4.2359204503716784e-8\n",
      "  XZZXZZYZ => -2.3431691700451155e-8\n",
      "  ZZXZZXII => -0.00012063886116623598\n",
      "  XZYXIYYZ => -4.8324363250977076e-8\n",
      "  XXXYIYXZ => -3.3641267519710954e-7\n",
      "  IIIXZZXZ => 9.209644347437583e-7\n",
      "  ZZYXYYYY => 5.995964204493712e-7\n",
      "  XXXXZZXY => -2.2673757070594606e-7\n",
      "  ⋮\n"
     ]
    }
   ],
   "source": [
    "show(dnum)"
   ]
  },
  {
   "cell_type": "markdown",
   "id": "c4169f57",
   "metadata": {},
   "source": [
    "#### Hybrid Pauli Propagation\n",
    "Propagates numerical coefficients, but can but truncated like the surrogate."
   ]
  },
  {
   "cell_type": "code",
   "execution_count": 9,
   "id": "4959866b",
   "metadata": {},
   "outputs": [
    {
     "data": {
      "text/plain": [
       "Inf"
      ]
     },
     "execution_count": 9,
     "metadata": {},
     "output_type": "execute_result"
    }
   ],
   "source": [
    "max_freq = Inf   # max frequency, i.e., max number of sines and cosines per path"
   ]
  },
  {
   "cell_type": "code",
   "execution_count": 10,
   "id": "4d38e155",
   "metadata": {},
   "outputs": [
    {
     "name": "stdout",
     "output_type": "stream",
     "text": [
      "  0.218077 seconds (965.51 k allocations: 53.694 MiB, 3.51% gc time, 61.33% compilation time)\n",
      "length(dhyb) = 53247\n"
     ]
    },
    {
     "data": {
      "text/plain": [
       "0.21720058439757214"
      ]
     },
     "execution_count": 10,
     "metadata": {},
     "output_type": "execute_result"
    }
   ],
   "source": [
    "@time dhyb = mergingbfs(fastcirc, obsint, NumericPathProperties(1.0), thetas; max_weight=W, max_freq=Inf, min_abs_coeff=min_abs_coeff);\n",
    "@show length(dhyb)\n",
    "evalagainstzero(dhyb)"
   ]
  },
  {
   "cell_type": "code",
   "execution_count": 11,
   "id": "9c9a2ebc",
   "metadata": {},
   "outputs": [
    {
     "name": "stdout",
     "output_type": "stream",
     "text": [
      "Dict{UInt16, NumericPathProperties} with 53247 entries:\n",
      "  XZIIXXZX => NumericPathProperties(9.342063615803493e-7, nsins=18, ncos=9, freq=40)\n",
      "  IIIXIIZY => NumericPathProperties(9.36513557295548e-6, nsins=11, ncos=5, freq=29)\n",
      "  YZZIYXZX => NumericPathProperties(3.818927407510158e-6, nsins=16, ncos=8, freq=42)\n",
      "  ZXYYYXII => NumericPathProperties(-0.0001441502376292454, nsins=13, ncos=8, freq=31)\n",
      "  IZYZIIXY => NumericPathProperties(-1.2333560289051895e-6, nsins=16, ncos=8, freq=36)\n",
      "  XXIIYZXI => NumericPathProperties(2.2079024544367792e-7, nsins=17, ncos=9, freq=35)\n",
      "  IZZXIZYZ => NumericPathProperties(1.4947093598678283e-7, nsins=15, ncos=9, freq=37)\n",
      "  YYXIYYYZ => NumericPathProperties(3.270505758837586e-7, nsins=19, ncos=11, freq=42)\n",
      "  YZIXXZII => NumericPathProperties(-0.0035533574412631294, nsins=11, ncos=6, freq=31)\n",
      "  IXIYIIZX => NumericPathProperties(-5.727900984982438e-7, nsins=19, ncos=11, freq=39)\n",
      "  IYZZZYYX => NumericPathProperties(-3.3665247394632922e-6, nsins=13, ncos=7, freq=37)\n",
      "  YIYZYIZZ => NumericPathProperties(-8.123208720289147e-9, nsins=19, ncos=11, freq=46)\n",
      "  XIZZXXZZ => NumericPathProperties(4.2359204503716784e-8, nsins=16, ncos=8, freq=43)\n",
      "  XZZXZZYZ => NumericPathProperties(-2.3431691700451155e-8, nsins=17, ncos=9, freq=41)\n",
      "  ZZXZZXII => NumericPathProperties(-0.00012063886116623598, nsins=10, ncos=5, freq=31)\n",
      "  XZYXIYYZ => NumericPathProperties(-4.8324363250977076e-8, nsins=19, ncos=12, freq=42)\n",
      "  XXXYIYXZ => NumericPathProperties(-3.3641267519710954e-7, nsins=18, ncos=10, freq=40)\n",
      "  IIIXZZXZ => NumericPathProperties(9.209644347437583e-7, nsins=8, ncos=4, freq=28)\n",
      "  ZZYXYYYY => NumericPathProperties(5.995964204493712e-7, nsins=19, ncos=10, freq=41)\n",
      "  XXXXZZXY => NumericPathProperties(-2.2673757070594606e-7, nsins=15, ncos=7, freq=38)\n",
      "  ⋮\n"
     ]
    }
   ],
   "source": [
    "show(dhyb)"
   ]
  },
  {
   "cell_type": "markdown",
   "id": "1ee6086e",
   "metadata": {},
   "source": [
    "#### Pauli Propagation Surrogate\n",
    "Builds a graph that can later be evaluated."
   ]
  },
  {
   "cell_type": "code",
   "execution_count": 12,
   "id": "923e0c79",
   "metadata": {
    "scrolled": false
   },
   "outputs": [
    {
     "name": "stdout",
     "output_type": "stream",
     "text": [
      "  1.231935 seconds (11.51 M allocations: 621.604 MiB, 42.66% gc time, 21.05% compilation time)\n",
      "length(dsym) = 53247\n",
      "  0.075305 seconds (32.10 k allocations: 5.161 MiB, 47.46% compilation time)\n"
     ]
    },
    {
     "data": {
      "text/plain": [
       "225500"
      ]
     },
     "execution_count": 12,
     "metadata": {},
     "output_type": "execute_result"
    }
   ],
   "source": [
    "@time dsym = mergingbfs(circ, operatortopathdict(obsint), zeros(m); max_weight=W, max_freq=max_freq);\n",
    "@show length(dsym)\n",
    "\n",
    "final_nodes = collect(pth.coeff for (obs, pth) in zerofilter(dsym));\n",
    "final_eval_node = PauliGateNode(parents=final_nodes, trig_inds=zeros(Int, length(final_nodes)), signs=ones(length(final_nodes)), param_idx=1, cummulative_value=0.0);\n",
    "resetnodes(final_eval_node)\n",
    "resetnodes(final_eval_node)\n",
    "@time eval_list = gettraceevalorder(final_eval_node, zeros(m));\n",
    "length(eval_list)  # The list of all nodes. The order is such that one can savely be evaluated after the other."
   ]
  },
  {
   "cell_type": "code",
   "execution_count": 13,
   "id": "09f28dbd",
   "metadata": {},
   "outputs": [
    {
     "name": "stdout",
     "output_type": "stream",
     "text": [
      "  0.057783 seconds (62.00 k allocations: 4.311 MiB, 60.31% compilation time)\n"
     ]
    },
    {
     "data": {
      "text/plain": [
       "0.2172005843975723"
      ]
     },
     "execution_count": 13,
     "metadata": {},
     "output_type": "execute_result"
    }
   ],
   "source": [
    "@time expectation(eval_list, thetas)    # This is actually not always faster than numerical propagation, but in interesting cases it is by a lot.\n",
    "                                        # making this always at least as fast is work in progress. Graph traversal is hard."
   ]
  }
 ],
 "metadata": {
  "kernelspec": {
   "display_name": "Julia 1.10.2",
   "language": "julia",
   "name": "julia-1.10"
  },
  "language_info": {
   "file_extension": ".jl",
   "mimetype": "application/julia",
   "name": "julia",
   "version": "1.10.2"
  }
 },
 "nbformat": 4,
 "nbformat_minor": 5
}
